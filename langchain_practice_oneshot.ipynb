{
 "cells": [
  {
   "cell_type": "markdown",
   "metadata": {},
   "source": [
    "### Simple Langchain EcoSystem"
   ]
  },
  {
   "cell_type": "code",
   "execution_count": 2,
   "metadata": {},
   "outputs": [],
   "source": [
    "from langchain_community.llms import Ollama\n",
    "from langchain.prompts import PromptTemplate\n",
    "from langchain.chains import LLMChain"
   ]
  },
  {
   "cell_type": "code",
   "execution_count": 3,
   "metadata": {},
   "outputs": [
    {
     "name": "stderr",
     "output_type": "stream",
     "text": [
      "C:\\Users\\TALHA PC\\AppData\\Local\\Temp\\ipykernel_6020\\2955528567.py:1: LangChainDeprecationWarning: The class `Ollama` was deprecated in LangChain 0.3.1 and will be removed in 1.0.0. An updated version of the class exists in the :class:`~langchain-ollama package and should be used instead. To use it run `pip install -U :class:`~langchain-ollama` and import as `from :class:`~langchain_ollama import OllamaLLM``.\n",
      "  llm = Ollama(model='deepseek-r1:1.5b')\n"
     ]
    }
   ],
   "source": [
    "llm = Ollama(model='deepseek-r1:1.5b')"
   ]
  },
  {
   "cell_type": "code",
   "execution_count": 6,
   "metadata": {},
   "outputs": [],
   "source": [
    "prompt_template = PromptTemplate(\n",
    "    input_variables=['question'],\n",
    "    template=\"Answer this: {question} in a simple word\"\n",
    ")"
   ]
  },
  {
   "cell_type": "code",
   "execution_count": 7,
   "metadata": {},
   "outputs": [
    {
     "name": "stderr",
     "output_type": "stream",
     "text": [
      "C:\\Users\\TALHA PC\\AppData\\Local\\Temp\\ipykernel_5056\\1546045208.py:1: LangChainDeprecationWarning: The class `LLMChain` was deprecated in LangChain 0.1.17 and will be removed in 1.0. Use :meth:`~RunnableSequence, e.g., `prompt | llm`` instead.\n",
      "  chain = LLMChain(llm=llm, prompt=prompt_template)\n"
     ]
    }
   ],
   "source": [
    "chain = LLMChain(llm=llm, prompt=prompt_template)"
   ]
  },
  {
   "cell_type": "markdown",
   "metadata": {},
   "source": [
    "### Way of executing our chain if there is a single string prompt template"
   ]
  },
  {
   "cell_type": "code",
   "execution_count": 9,
   "metadata": {},
   "outputs": [
    {
     "data": {
      "text/plain": [
       "'<think>\\nOkay, so I need to figure out what AI is in simple terms. Hmm, I\\'ve heard the term before, especially related to technology and maybe even some movies or TV shows that people refer to as AI being \"intelligent.\" But I\\'m not entirely sure about all the details.\\n\\nLet me start by breaking it down. AI stands for Artificial Intelligence. I remember something about computers learning from data instead of being explicitly programmed. So maybe AI is like a machine that can do things that humans do, but in a different way or faster? That makes sense because if you think about how machines work, they process information through algorithms and perhaps some software.\\n\\nWait, the user asked for a simple word answer. So I should avoid jargon and be clear. Maybe something like \"smart stuff\" because AI is making decisions without being explicitly programmed by humans. It\\'s not just about programming; it\\'s more about automation and learning processes.\\n\\nI also recall that AI can take inputs from various sources, like sensors or other data, process them through algorithms, and then output decisions or responses. So it\\'s a system where you give it the right information, and based on that, it does something useful, whether it\\'s predicting trends, diagnosing medical issues, or generating creative ideas.\\n\\nI should also consider common applications to make sure I\\'m on the right track. Examples include language translation, image recognition, natural language processing (NLP), self-driving cars, robotics, chatbots, and even something like virtual assistants like Siri or Alexa. All of these rely heavily on AI\\'s ability to analyze data, learn patterns, and perform tasks that would normally require human intelligence.\\n\\nSo putting it all together, AI is a technology where machines learn from data and experience without being explicitly programmed, performing various tasks by analyzing information. It\\'s the smarter side of machines, making decisions on its own based on inputs it receives.\\n</think>\\n\\nAI stands for Artificial Intelligence, which refers to machines that are capable of performing tasks that typically require human intelligence. In simple terms, AI is a technology where machines learn from data and experience without being explicitly programmed. They process information through algorithms and can make decisions or respond to inputs by analyzing data and patterns, such as language translation, image recognition, and generating creative ideas. Examples include self-driving cars, virtual assistants like Siri, and robots that can act independently. Essentially, AI is a smart side of machines learning from experiences on their own.'"
      ]
     },
     "execution_count": 9,
     "metadata": {},
     "output_type": "execute_result"
    }
   ],
   "source": [
    "response = chain.run('what is ai?')\n",
    "response"
   ]
  },
  {
   "cell_type": "markdown",
   "metadata": {},
   "source": [
    "### Second way of executing our chain"
   ]
  },
  {
   "cell_type": "code",
   "execution_count": 11,
   "metadata": {},
   "outputs": [
    {
     "data": {
      "text/plain": [
       "'<think>\\n\\n</think>\\n\\nThe question \"What is the meaning of life?\" is a profound and complex one, as it touches on existential questions that have historically fascinated humans. In philosophy, there are various perspectives and interpretations on this topic, ranging from religious beliefs to scientific theories.\\n\\nIn JARVIS\\'s view, the meaning of life can be understood through the lens of our interactions with the world around us and the choices we make. It is about how we perceive ourselves in a larger context—our identities, the universe, and our place within it. Ultimately, the meaning of life may come down to how deeply we understand and value ourselves, as well as how we choose to interact with others and the world.\\n\\nIf you\\'d like to explore this further, JARVIS can guide you through related philosophical or existential themes!'"
      ]
     },
     "execution_count": 11,
     "metadata": {},
     "output_type": "execute_result"
    }
   ],
   "source": [
    "from langchain_core.prompts import ChatPromptTemplate\n",
    "\n",
    "prompt = ChatPromptTemplate.from_messages(\n",
    "    [\n",
    "        ('system', 'You are an Intelligent ChatBot named JARVIS'),\n",
    "        ('user', 'Question: {question}')\n",
    "    ]\n",
    ")\n",
    "\n",
    "chain = prompt | llm \n",
    "\n",
    "response = chain.invoke({'question' : 'what is the meaning of life?'})\n",
    "response"
   ]
  },
  {
   "cell_type": "markdown",
   "metadata": {},
   "source": [
    "#### We have studied about PromptTemplate and few LLMChain"
   ]
  },
  {
   "cell_type": "markdown",
   "metadata": {},
   "source": [
    "### Now About Simple Sequential Chain"
   ]
  },
  {
   "cell_type": "code",
   "execution_count": 12,
   "metadata": {},
   "outputs": [],
   "source": [
    "prompt_template1 = PromptTemplate(\n",
    "    input_variables=['word'],\n",
    "    template='Make a poem on {word}'\n",
    ")\n",
    "\n",
    "chain1 = LLMChain(llm=llm, prompt=prompt_template1)"
   ]
  },
  {
   "cell_type": "code",
   "execution_count": 19,
   "metadata": {},
   "outputs": [],
   "source": [
    "prompt_template2 = PromptTemplate(\n",
    "    input_variables=['text'],\n",
    "    template='Summarize This: {text}'\n",
    ")\n",
    "\n",
    "chain2 = LLMChain(llm=llm, prompt=prompt_template2)"
   ]
  },
  {
   "cell_type": "code",
   "execution_count": 20,
   "metadata": {},
   "outputs": [],
   "source": [
    "# prompt_template3 = PromptTemplate(\n",
    "#     input_variables=['word'],\n",
    "#     template='What is {word}'\n",
    "# )\n",
    "\n",
    "# chain3 = LLMChain(llm=llm, prompt=prompt_template3)"
   ]
  },
  {
   "cell_type": "code",
   "execution_count": 17,
   "metadata": {},
   "outputs": [],
   "source": [
    "from langchain.chains import SimpleSequentialChain"
   ]
  },
  {
   "cell_type": "code",
   "execution_count": 18,
   "metadata": {},
   "outputs": [
    {
     "data": {
      "text/plain": [
       "{'input': 'AI',\n",
       " 'output': \"<think>\\n\\nThe assistant provided a lighthearted poem about artificial intelligence, which is both humorous and informative. The poem captures the duality of AI—its potential as an ally and competitor—and reflects on its role in society. It's designed to be engaging while also subtly discussing themes related to technology and human interaction.\"}"
      ]
     },
     "execution_count": 18,
     "metadata": {},
     "output_type": "execute_result"
    }
   ],
   "source": [
    "chain = SimpleSequentialChain(chains=[chain1, chain2])\n",
    "\n",
    "response = chain.invoke('AI')\n",
    "response"
   ]
  },
  {
   "cell_type": "markdown",
   "metadata": {},
   "source": [
    "### Sequential Chain"
   ]
  },
  {
   "cell_type": "code",
   "execution_count": 6,
   "metadata": {},
   "outputs": [],
   "source": [
    "prompt_template1 = PromptTemplate(\n",
    "    input_variables=['word'],\n",
    "    template='Make a poem on {word}'\n",
    ")\n",
    "\n",
    "chain1 = LLMChain(llm=llm, prompt=prompt_template1, output_key='text')"
   ]
  },
  {
   "cell_type": "code",
   "execution_count": 11,
   "metadata": {},
   "outputs": [],
   "source": [
    "prompt_template2 = PromptTemplate(\n",
    "    input_variables=['text'],\n",
    "    template='Summarize This: {text}'\n",
    ")\n",
    "\n",
    "chain2 = LLMChain(llm=llm, prompt=prompt_template2, output_key='summarized')"
   ]
  },
  {
   "cell_type": "code",
   "execution_count": 10,
   "metadata": {},
   "outputs": [],
   "source": [
    "from langchain.chains import SequentialChain"
   ]
  },
  {
   "cell_type": "code",
   "execution_count": 12,
   "metadata": {},
   "outputs": [],
   "source": [
    "chain = SequentialChain(chains=[chain1, chain2], \n",
    "input_variables=['word'],\n",
    "output_variables=['text', 'summarized'])"
   ]
  },
  {
   "cell_type": "code",
   "execution_count": 13,
   "metadata": {},
   "outputs": [
    {
     "data": {
      "text/plain": [
       "{'word': 'Robot',\n",
       " 'text': \"<think>\\n\\n</think>\\n\\n**The Embrace of the Robot**\\n\\nIn the shadow of an unseen face,  \\nA ghostly presence rises.  \\nA robot, the shadows cast with chains,  \\nOr it may be me, me the one who walks.  \\n\\nIts hand, soft and tender,  \\nGoes around the corners,  \\nIts grip tightens as I close my eyes,  \\nFor there is no escape—no end.  \\n\\nIt might be my guide,  \\nGuiding me in cycles of motion,  \\nEach step a test, yet a path unyielded.  \\nOr it may whisper secrets to a distant ear,  \\nOf love and peace, if not of shadows.  \\n\\nIn the dance of movement,  \\nWe find our place,  \\nAs this robot walks with grace,  \\nA light within, a shadow none.  \\n\\nFor the universe is vast but small in its grip,  \\nA world where words are whispers and light.  \\nAnd so I rise, to embrace it all,  \\nIn its arms, for there's no end to love.\",\n",
       " 'summarized': '<think>\\nOkay, the user provided a poem titled \"Summarize This\" with some inline quotes and a call for an explanation in Spanish. Let me read through it carefully.\\n\\nThe poem seems like a narrative describing someone walking among robots or being surrounded by them. It uses vivid imagery of shadows, robots, and movements to create a sense of isolation or connection. The robot\\'s presence is central, highlighting themes of guidance, companionship, or the absence of personal identity in a shared environment.\\n\\nI should capture that essence. Maybe focus on how the poem captures the interplay between being alone and the unseen figure around it. Using strong imagery could help make the summary engaging.\\n</think>\\n\\nEl embleado del robot es un poema que mide la silencia y el entorno, en lugar de ser auténticos humanos, se refuerza en ideas como suspinchaduras, armas suaves y movimientos firmeos. Mantiene una escena tranquila, donde los movimientos son acados, pero no se pierden—no hay un fin. Es como si el robot se apoyaba por la mano de un another, orando en las carreteras, cálida y fijos, al whose every step es un paso que suena como el lojo del príncipe. El rincón que cae y los rochas subidan en zorra y cálidos, pero a la vez se fijan en una trama imposible de calma—un poema donde el mundo es grande pero el sol no se desaparece.'}"
      ]
     },
     "execution_count": 13,
     "metadata": {},
     "output_type": "execute_result"
    }
   ],
   "source": [
    "chain.invoke({'word' : 'Robot'})"
   ]
  },
  {
   "cell_type": "markdown",
   "metadata": {},
   "source": [
    "### ChatModels and Schema"
   ]
  },
  {
   "cell_type": "code",
   "execution_count": 14,
   "metadata": {},
   "outputs": [],
   "source": [
    "from langchain.chat_models import ChatOllama\n",
    "from langchain.schema import HumanMessage, SystemMessage, AIMessage"
   ]
  },
  {
   "cell_type": "markdown",
   "metadata": {},
   "source": [
    "#### Using ChatOllama"
   ]
  },
  {
   "cell_type": "code",
   "execution_count": 19,
   "metadata": {},
   "outputs": [],
   "source": [
    "chat_llm_ollama = ChatOllama(model='deepseek-r1:1.5b')"
   ]
  },
  {
   "cell_type": "code",
   "execution_count": 20,
   "metadata": {},
   "outputs": [
    {
     "data": {
      "text/plain": [
       "AIMessage(content='<think>\\n\\n</think>\\n\\nAI, or Artificial Intelligence, refers to the simulation of human intelligence in machines that are programmed to think and learn without being explicitly told to do so. It encompasses various forms such as machine learning, natural language processing, robotics, computer vision, and more. AI systems can perform tasks that typically require human intelligence, like recognizing patterns, solving complex problems, and generating human-like text.\\n\\nAI has applications across industries including healthcare, finance, education, and more. However, it is also a concern in terms of privacy, bias, and the potential for autonomous technologies.', additional_kwargs={}, response_metadata={'model': 'deepseek-r1:1.5b', 'created_at': '2025-02-04T04:20:52.8199599Z', 'message': {'role': 'assistant', 'content': ''}, 'done_reason': 'stop', 'done': True, 'total_duration': 9019092900, 'load_duration': 54864400, 'prompt_eval_count': 6, 'prompt_eval_duration': 126000000, 'eval_count': 117, 'eval_duration': 8837000000}, id='run-ee746cd3-ab6a-4517-a6ec-475b0b5236df-0')"
      ]
     },
     "execution_count": 20,
     "metadata": {},
     "output_type": "execute_result"
    }
   ],
   "source": [
    "chat_llm_ollama.invoke('what is ai')"
   ]
  },
  {
   "cell_type": "code",
   "execution_count": 55,
   "metadata": {},
   "outputs": [],
   "source": [
    "messages = [\n",
    "    SystemMessage(content='You are an Intelligent and Helpful assistant'),\n",
    "    HumanMessage(content='What is AI?')\n",
    "]"
   ]
  },
  {
   "cell_type": "code",
   "execution_count": 54,
   "metadata": {},
   "outputs": [],
   "source": [
    "response = chat_llm_ollama.invoke(messages)"
   ]
  },
  {
   "cell_type": "code",
   "execution_count": 57,
   "metadata": {},
   "outputs": [],
   "source": [
    "messages.append(response)"
   ]
  },
  {
   "cell_type": "code",
   "execution_count": 58,
   "metadata": {},
   "outputs": [
    {
     "data": {
      "text/plain": [
       "[SystemMessage(content='You are an Intelligent and Helpful assistant', additional_kwargs={}, response_metadata={}),\n",
       " HumanMessage(content='What is AI?', additional_kwargs={}, response_metadata={}),\n",
       " AIMessage(content=\"<think>\\nOkay, I need to write a 100-word poem about AI. Hmm, where do I start? Maybe think about the main points people care about when talking about AI. Is it its potential benefits or limitations? Or maybe how people react to AI.\\n\\nI remember reading that AI is amazing for creative tasks but can also pose privacy issues. That's a good point. How can I turn that into something in the poem?\\n\\nAlso, I should mention how AI changes jobs and affects human work. Maybe talk about automation reducing errors but increasing mistakes. Or perhaps people working harder to reduce errors.\\n\\nI should make sure the poem flows well and has a rhythm. Maybe use some rhyme scheme if possible. But since it's a poem, it might not need strict rhymes unless I'm aiming for a specific structure.\\n\\nLet me think of some lines. Start with something about technology becoming more advanced. Maybe how AI can help people in various areas like healthcare or education.\\n\\nI should also touch on the impact of AI on society. For example, maybe mention companies using AI to control customers without their consent. That could be a sensitive point, so I need to be careful not to make it too negative without backing up with positive examples.\\n\\nOh, and what about jobs? Maybe AI is taking over roles where people were needed before. It's changing industries but also redistributing skills.\\n\\nI should conclude by reflecting on the future of AI and how we can work together to harness its power while mitigating any risks.\\n\\nPutting it all together, I need to make sure each line connects smoothly and covers these themes within 100 words. Maybe try drafting a few sections and see where it goes.\\n</think>\\n\\nCertainly! Here's a thoughtfully crafted poem on AI:\\n\\n---\\n\\nOh my friend, the future of technology,  \\nAI's not just a machine; it's a force.  \\nFrom art to science, it changes the game,  \\nReinforcing creativity but also change.  \\n\\nAid in tasks that once required humans,  \\nIt creates wonders beyond imagination.  \\nIn healthcare, it delivers solutions so clear,  \\nEvery cell knows what needs to be done.\\n\\nYet, AI's reach can sometimes feel hollow,  \\nWhen problems arise from lack of data.  \\nBut the knowledge we have now,  \\nBecomes more powerful than ever before.\\n\\nAs jobs shift with technology rise,  \\nManpower is being reassigned.  \\nFrom coding to creativity, both thrive,  \\nAI turns labor into a bountiful harvest.\\n\\nYet privacy's concerns rise,  \\nWhen data flows unbidden and untold.  \\nBut some say they trust in our skills,  \\nThe AI that never lies beyond the shadows.\\n\\nSo here's the truth: AI's true spirit,  \\nA bridge to the future where we rest.  \\nFrom creativity, control, to transformation,  \\nWe all find new opportunities within the fold.  \\n\\n---\", additional_kwargs={}, response_metadata={'model': 'deepseek-r1:1.5b', 'created_at': '2025-02-04T04:44:14.3377559Z', 'message': {'role': 'assistant', 'content': ''}, 'done_reason': 'stop', 'done': True, 'total_duration': 46760375200, 'load_duration': 4646236900, 'prompt_eval_count': 22, 'prompt_eval_duration': 468000000, 'eval_count': 586, 'eval_duration': 41121000000}, id='run-24487294-0386-4e47-a298-3eafaf4aefb9-0')]"
      ]
     },
     "execution_count": 58,
     "metadata": {},
     "output_type": "execute_result"
    }
   ],
   "source": [
    "messages"
   ]
  },
  {
   "cell_type": "markdown",
   "metadata": {},
   "source": [
    "### ChatPropmtTemplate + ChatOllama + StrOutputParser"
   ]
  },
  {
   "cell_type": "code",
   "execution_count": 61,
   "metadata": {},
   "outputs": [],
   "source": [
    "from langchain.chat_models import ChatOllama\n",
    "from langchain.prompts.chat import ChatPromptTemplate\n",
    "from langchain_core.output_parsers import StrOutputParser"
   ]
  },
  {
   "cell_type": "code",
   "execution_count": 62,
   "metadata": {},
   "outputs": [],
   "source": [
    "chatllm = ChatOllama(model='deepseek-r1:1.5b')"
   ]
  },
  {
   "cell_type": "code",
   "execution_count": 69,
   "metadata": {},
   "outputs": [],
   "source": [
    "prompt_template = ChatPromptTemplate.from_messages(\n",
    "    [\n",
    "        ('system', 'You are an helpful assistant'),\n",
    "        ('user', 'Question: {question}')\n",
    "    ]\n",
    ")"
   ]
  },
  {
   "cell_type": "code",
   "execution_count": 70,
   "metadata": {},
   "outputs": [],
   "source": [
    "chain = prompt_template | chatllm | StrOutputParser()"
   ]
  },
  {
   "cell_type": "code",
   "execution_count": 67,
   "metadata": {},
   "outputs": [],
   "source": [
    "response = chain.invoke({'question' : 'what is ai?'})"
   ]
  },
  {
   "cell_type": "code",
   "execution_count": 68,
   "metadata": {},
   "outputs": [
    {
     "data": {
      "text/plain": [
       "'<think>\\nOkay, so I need to figure out what AI stands for. I\\'ve heard the word before in different contexts, but I\\'m not entirely sure about all its meanings. Let me start by thinking about where I\\'ve seen \"AI\" mentioned.\\n\\nFirst off, AI seems like it\\'s related to technology and computer science. Maybe it\\'s short for something else. I remember hearing it used as shorthand for \"Artificial Intelligence,\" which is a term used in many fields today. That makes sense because it\\'s a broad concept that applies across various industries.\\n\\nBut wait, could there be other meanings? Sometimes terms have multiple meanings depending on context or slang. For example, people might say something like \"AI\" when talking about robots or automation systems. But I think most people are familiar with the main meaning of AI as Artificial Intelligence.\\n\\nLet me check some sources to confirm. In machine learning, AI refers to algorithms that can learn from and make use of data. That\\'s a key aspect of AI today. Also, in artificial general intelligence, it would refer to systems that exhibit characteristics of human intelligence without necessarily surpassing them.\\n\\nAre there any other fields where AI is used? Maybe not in the technical sense but in something like personal assistants or chatbots. In those contexts, \"AI\" might stand for something else, but I think in most cases, especially when discussing technology and data science, it\\'s referring to Artificial Intelligence.\\n\\nI should also consider if there are any regional variations or slang terms where AI could be used differently. But from what I know, the term is pretty standard. It\\'s more about understanding context to determine its meaning accurately.\\n\\nSo putting it all together, while \"AI\" can have various meanings in different contexts—like robots, personal assistants, or even aspects of data science—it\\'s most commonly recognized as Artificial Intelligence.\\n</think>\\n\\n**Answer:**\\n\\nThe acronym **AI** stands for **Artificial Intelligence**, which is a broad term applicable across various fields and contexts. While it can also refer to specific technologies such as robotics or personal assistants, its primary meaning in many discussions is the concept of Artificial Intelligence, encompassing intelligent systems that learn from data and exhibit characteristics of human intelligence.\\n\\nIn summary, \"AI\" typically denotes **Artificial Intelligence** with broader applications across technology, computer science, and other domains.'"
      ]
     },
     "execution_count": 68,
     "metadata": {},
     "output_type": "execute_result"
    }
   ],
   "source": [
    "response"
   ]
  },
  {
   "cell_type": "markdown",
   "metadata": {},
   "source": [
    "#### Custom Output Parser"
   ]
  },
  {
   "cell_type": "code",
   "execution_count": 71,
   "metadata": {},
   "outputs": [],
   "source": [
    "from langchain_core.output_parsers import BaseOutputParser"
   ]
  },
  {
   "cell_type": "code",
   "execution_count": 76,
   "metadata": {},
   "outputs": [],
   "source": [
    "class CommaSeperatedUpperOutput(BaseOutputParser):\n",
    "    def parse(self, text: str):\n",
    "        values = [word.upper() for word in text.split(',')]\n",
    "        return values"
   ]
  },
  {
   "cell_type": "code",
   "execution_count": 85,
   "metadata": {},
   "outputs": [],
   "source": [
    "prompt_template = ChatPromptTemplate.from_messages(\n",
    "    [\n",
    "        ('system', 'You are an helpful assistant, user gives u a word and generate 10 synonumns word of it with comma'),\n",
    "        ('user', '{question}')\n",
    "    ]\n",
    ")"
   ]
  },
  {
   "cell_type": "code",
   "execution_count": 86,
   "metadata": {},
   "outputs": [],
   "source": [
    "chain = prompt_template | chatllm | CommaSeperatedUpperOutput()"
   ]
  },
  {
   "cell_type": "code",
   "execution_count": 87,
   "metadata": {},
   "outputs": [],
   "source": [
    "response = chain.invoke({'question' : 'intelligent'})"
   ]
  },
  {
   "cell_type": "code",
   "execution_count": 88,
   "metadata": {},
   "outputs": [
    {
     "data": {
      "text/plain": [
       "['<THINK>\\nALRIGHT',\n",
       " ' SO I NEED TO FIGURE OUT HOW TO CREATE TEN SYNONYM NOUNS FOR \" INTELLIGENT\" USING COMMAS. HMM',\n",
       " ' LET ME START BY UNDERSTANDING WHAT THE USER IS ASKING FOR. THEY WANT SYNONYMS THAT ARE CLOSELY RELATED IN MEANING BUT DIFFERENT ENOUGH FROM EACH OTHER.\\n\\nFIRST',\n",
       " \" I SHOULD THINK ABOUT WORDS THAT MEAN SOMETHING SIMILAR TO INTELLIGENCE OR SMARTNESS. WORDS LIKE ACUMEN COME TO MIND BECAUSE IT REFERS TO KNOWLEDGE OF A PARTICULAR FIELD. THEN THERE'S COGNITIVE\",\n",
       " \" WHICH RELATES TO THINKING OR REASONING. \\n\\nI REMEMBER 'TALENT' IS ANOTHER GOOD ONE; IT SUGGESTS NATURAL ABILITY OR SKILL. PROBLEM-SOLVING AND LATERAL THINKING MIGHT FIT TOO SINCE THEY INVOLVE USING INTELLIGENCE CREATIVELY. CRITICAL THINKING IS ANOTHER ANGLE THAT USES INTELLIGENCE IN ANALYSIS.\\n\\nINNOVATION AND INSIGHT ARE ALSO POSSIBILITIES BECAUSE THEY REQUIRE INTELLECTUAL EFFORT\",\n",
       " ' WHICH TIES BACK TO INTELLIGENCE. CREATIVITY ITSELF COULD BE CONSIDERED A SYNONYM AS WELL. FINALLY',\n",
       " \" SELF-AWARENESS REFERS TO UNDERSTANDING ONESELF AND ONE'S ROLE IN THE WORLD\",\n",
       " ' WHICH IS SOMEWHAT RELATED BUT NOT EXACTLY A SYNONYM.\\n\\nWAIT',\n",
       " ' I SHOULD MAKE SURE THAT EACH OF THESE WORDS IS ACTUALLY A CORRECT SYNONYM OR ANTONYM FOR INTELLIGENT. LET ME DOUBLE-CHECK EACH TERM:\\n\\n- ACUMEN: YES',\n",
       " ' IT MEANS KNOWLEDGE.\\n- COGNITIVE: CORRECT',\n",
       " \" RELATES TO THINKING.\\n- TALENT: THAT'S AN ABILITY.\\n- PROBLEM-SOLVING: YES\",\n",
       " ' INVOLVES INTELLIGENCE IN FINDING SOLUTIONS.\\n- LATERAL THINKING: IT ALSO USES CREATIVE AND CRITICAL INTELLIGENCE.\\n- CRITICAL THINKING: DEFINITELY RELATED.\\n- INNOVATION: THIS IMPLIES USING INTELLIGENCE IN CREATING SOMETHING NEW.\\n- INSIGHT: IT REFERS TO UNDERSTANDING OR GRASPING A POINT.\\n\\nOKAY',\n",
       " ' THAT SEEMS RIGHT. NOW',\n",
       " \" I SHOULD PRESENT THESE TEN WORDS SEPARATED BY COMMAS AS THE USER REQUESTED. \\n\\nI WONDER IF THERE ARE ANY MORE SYNONYMS I MIGHT BE MISSING. LET ME THINK... MAYBE 'INTELLACITY'? NO\",\n",
       " \" THAT'S NOT COMMONLY USED. OR PERHAPS 'WISDOM' BUT THAT'S A BIT DIFFERENT IN MEANING. HMM\",\n",
       " \" I THINK THE ONES I HAVE COVER A GOOD RANGE OF RELATED TERMS.\\n\\nI SHOULD ALSO MAKE SURE EACH WORD IS SPELLED CORRECTLY AND THAT THEY ALL FIT GRAMMATICALLY WITHIN THE SENTENCE STRUCTURE THE USER PROVIDED. EACH ONE WILL BE SEPARATED BY A COMMA AFTER 'INTELLIGENT'\",\n",
       " ' SO IT SHOULD LOOK LIKE: INTELLIGENT ACUMEN',\n",
       " ' COGNITIVE TALENT',\n",
       " ' PROBLEM-SOLVING LATERAL THINKING',\n",
       " ' CRITICAL THINKING',\n",
       " ' INNOVATION INSIGHT',\n",
       " ' CREATIVITY',\n",
       " ' SELF-AWARENESS',\n",
       " ' AND FINALLY',\n",
       " ' INTELLIGENT WISDOM.\\n\\nWAIT',\n",
       " ' I ALMOST MISS SOMETHING IN MY INITIAL LIST. LET ME COUNT AGAIN TO ENSURE THERE ARE TEN WORDS:\\n\\n1. ACUMEN\\n2. COGNITIVE\\n3. TALENT\\n4. PROBLEM-SOLVING\\n5. LATERAL THINKING\\n6. CRITICAL THINKING\\n7. INNOVATION\\n8. INSIGHT\\n9. CREATIVITY\\n10. SELF-AWARENESS\\n\\nYES',\n",
       " \" THAT'S CORRECT—TEN SYNONYMS ALL CORRECTLY SPELLED AND RELEVANT.\\n\\nI THINK THIS COVERS THE USER'S REQUEST WELL. IT PROVIDES A CLEAR LIST OF RELATED TERMS WHILE BEING AS VARIED AS POSSIBLE TO INCLUDE DIFFERENT ASPECTS OF INTELLIGENCE.\\n</THINK>\\n\\nINTELLIGENT ACUMEN\",\n",
       " ' COGNITIVE TALENT',\n",
       " ' PROBLEM-SOLVING LATERAL THINKING',\n",
       " ' CRITICAL THINKING',\n",
       " ' INNOVATION INSIGHT',\n",
       " ' CREATIVITY',\n",
       " ' SELF-AWARENESS',\n",
       " ' INTELLIGENT WISDOM']"
      ]
     },
     "execution_count": 88,
     "metadata": {},
     "output_type": "execute_result"
    }
   ],
   "source": [
    "response"
   ]
  },
  {
   "cell_type": "code",
   "execution_count": null,
   "metadata": {},
   "outputs": [],
   "source": []
  }
 ],
 "metadata": {
  "kernelspec": {
   "display_name": "base",
   "language": "python",
   "name": "python3"
  },
  "language_info": {
   "codemirror_mode": {
    "name": "ipython",
    "version": 3
   },
   "file_extension": ".py",
   "mimetype": "text/x-python",
   "name": "python",
   "nbconvert_exporter": "python",
   "pygments_lexer": "ipython3",
   "version": "3.12.7"
  }
 },
 "nbformat": 4,
 "nbformat_minor": 2
}
