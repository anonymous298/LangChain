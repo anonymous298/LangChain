{
 "cells": [
  {
   "cell_type": "markdown",
   "metadata": {},
   "source": [
    "### Simple Langchain EcoSystem"
   ]
  },
  {
   "cell_type": "code",
   "execution_count": 4,
   "metadata": {},
   "outputs": [],
   "source": [
    "from langchain_community.llms import Ollama\n",
    "from langchain.prompts import PromptTemplate\n",
    "from langchain.chains import LLMChain"
   ]
  },
  {
   "cell_type": "code",
   "execution_count": 5,
   "metadata": {},
   "outputs": [
    {
     "name": "stderr",
     "output_type": "stream",
     "text": [
      "C:\\Users\\TALHA PC\\AppData\\Local\\Temp\\ipykernel_5056\\2955528567.py:1: LangChainDeprecationWarning: The class `Ollama` was deprecated in LangChain 0.3.1 and will be removed in 1.0.0. An updated version of the class exists in the :class:`~langchain-ollama package and should be used instead. To use it run `pip install -U :class:`~langchain-ollama` and import as `from :class:`~langchain_ollama import OllamaLLM``.\n",
      "  llm = Ollama(model='deepseek-r1:1.5b')\n"
     ]
    }
   ],
   "source": [
    "llm = Ollama(model='deepseek-r1:1.5b')"
   ]
  },
  {
   "cell_type": "code",
   "execution_count": 6,
   "metadata": {},
   "outputs": [],
   "source": [
    "prompt_template = PromptTemplate(\n",
    "    input_variables=['question'],\n",
    "    template=\"Answer this: {question} in a simple word\"\n",
    ")"
   ]
  },
  {
   "cell_type": "code",
   "execution_count": 7,
   "metadata": {},
   "outputs": [
    {
     "name": "stderr",
     "output_type": "stream",
     "text": [
      "C:\\Users\\TALHA PC\\AppData\\Local\\Temp\\ipykernel_5056\\1546045208.py:1: LangChainDeprecationWarning: The class `LLMChain` was deprecated in LangChain 0.1.17 and will be removed in 1.0. Use :meth:`~RunnableSequence, e.g., `prompt | llm`` instead.\n",
      "  chain = LLMChain(llm=llm, prompt=prompt_template)\n"
     ]
    }
   ],
   "source": [
    "chain = LLMChain(llm=llm, prompt=prompt_template)"
   ]
  },
  {
   "cell_type": "markdown",
   "metadata": {},
   "source": [
    "### Way of executing our chain if there is a single string prompt template"
   ]
  },
  {
   "cell_type": "code",
   "execution_count": 9,
   "metadata": {},
   "outputs": [
    {
     "data": {
      "text/plain": [
       "'<think>\\nOkay, so I need to figure out what AI is in simple terms. Hmm, I\\'ve heard the term before, especially related to technology and maybe even some movies or TV shows that people refer to as AI being \"intelligent.\" But I\\'m not entirely sure about all the details.\\n\\nLet me start by breaking it down. AI stands for Artificial Intelligence. I remember something about computers learning from data instead of being explicitly programmed. So maybe AI is like a machine that can do things that humans do, but in a different way or faster? That makes sense because if you think about how machines work, they process information through algorithms and perhaps some software.\\n\\nWait, the user asked for a simple word answer. So I should avoid jargon and be clear. Maybe something like \"smart stuff\" because AI is making decisions without being explicitly programmed by humans. It\\'s not just about programming; it\\'s more about automation and learning processes.\\n\\nI also recall that AI can take inputs from various sources, like sensors or other data, process them through algorithms, and then output decisions or responses. So it\\'s a system where you give it the right information, and based on that, it does something useful, whether it\\'s predicting trends, diagnosing medical issues, or generating creative ideas.\\n\\nI should also consider common applications to make sure I\\'m on the right track. Examples include language translation, image recognition, natural language processing (NLP), self-driving cars, robotics, chatbots, and even something like virtual assistants like Siri or Alexa. All of these rely heavily on AI\\'s ability to analyze data, learn patterns, and perform tasks that would normally require human intelligence.\\n\\nSo putting it all together, AI is a technology where machines learn from data and experience without being explicitly programmed, performing various tasks by analyzing information. It\\'s the smarter side of machines, making decisions on its own based on inputs it receives.\\n</think>\\n\\nAI stands for Artificial Intelligence, which refers to machines that are capable of performing tasks that typically require human intelligence. In simple terms, AI is a technology where machines learn from data and experience without being explicitly programmed. They process information through algorithms and can make decisions or respond to inputs by analyzing data and patterns, such as language translation, image recognition, and generating creative ideas. Examples include self-driving cars, virtual assistants like Siri, and robots that can act independently. Essentially, AI is a smart side of machines learning from experiences on their own.'"
      ]
     },
     "execution_count": 9,
     "metadata": {},
     "output_type": "execute_result"
    }
   ],
   "source": [
    "response = chain.run('what is ai?')\n",
    "response"
   ]
  },
  {
   "cell_type": "markdown",
   "metadata": {},
   "source": [
    "### Second way of executing our chain"
   ]
  },
  {
   "cell_type": "code",
   "execution_count": 11,
   "metadata": {},
   "outputs": [
    {
     "data": {
      "text/plain": [
       "'<think>\\n\\n</think>\\n\\nThe question \"What is the meaning of life?\" is a profound and complex one, as it touches on existential questions that have historically fascinated humans. In philosophy, there are various perspectives and interpretations on this topic, ranging from religious beliefs to scientific theories.\\n\\nIn JARVIS\\'s view, the meaning of life can be understood through the lens of our interactions with the world around us and the choices we make. It is about how we perceive ourselves in a larger context—our identities, the universe, and our place within it. Ultimately, the meaning of life may come down to how deeply we understand and value ourselves, as well as how we choose to interact with others and the world.\\n\\nIf you\\'d like to explore this further, JARVIS can guide you through related philosophical or existential themes!'"
      ]
     },
     "execution_count": 11,
     "metadata": {},
     "output_type": "execute_result"
    }
   ],
   "source": [
    "from langchain_core.prompts import ChatPromptTemplate\n",
    "\n",
    "prompt = ChatPromptTemplate.from_messages(\n",
    "    [\n",
    "        ('system', 'You are an Intelligent ChatBot named JARVIS'),\n",
    "        ('user', 'Question: {question}')\n",
    "    ]\n",
    ")\n",
    "\n",
    "chain = prompt | llm \n",
    "\n",
    "response = chain.invoke({'question' : 'what is the meaning of life?'})\n",
    "response"
   ]
  },
  {
   "cell_type": "markdown",
   "metadata": {},
   "source": [
    "#### We have studied about PromptTemplate and few LLMChain"
   ]
  },
  {
   "cell_type": "markdown",
   "metadata": {},
   "source": [
    "### Now About Simple Sequential Chain"
   ]
  },
  {
   "cell_type": "code",
   "execution_count": 12,
   "metadata": {},
   "outputs": [],
   "source": [
    "prompt_template1 = PromptTemplate(\n",
    "    input_variables=['word'],\n",
    "    template='Make a poem on {word}'\n",
    ")\n",
    "\n",
    "chain1 = LLMChain(llm=llm, prompt=prompt_template1)"
   ]
  },
  {
   "cell_type": "code",
   "execution_count": 19,
   "metadata": {},
   "outputs": [],
   "source": [
    "prompt_template2 = PromptTemplate(\n",
    "    input_variables=['text'],\n",
    "    template='Summarize This: {text}'\n",
    ")\n",
    "\n",
    "chain2 = LLMChain(llm=llm, prompt=prompt_template2)"
   ]
  },
  {
   "cell_type": "code",
   "execution_count": 20,
   "metadata": {},
   "outputs": [],
   "source": [
    "# prompt_template3 = PromptTemplate(\n",
    "#     input_variables=['word'],\n",
    "#     template='What is {word}'\n",
    "# )\n",
    "\n",
    "# chain3 = LLMChain(llm=llm, prompt=prompt_template3)"
   ]
  },
  {
   "cell_type": "code",
   "execution_count": 17,
   "metadata": {},
   "outputs": [],
   "source": [
    "from langchain.chains import SimpleSequentialChain"
   ]
  },
  {
   "cell_type": "code",
   "execution_count": 18,
   "metadata": {},
   "outputs": [
    {
     "data": {
      "text/plain": [
       "{'input': 'AI',\n",
       " 'output': \"<think>\\n\\nThe assistant provided a lighthearted poem about artificial intelligence, which is both humorous and informative. The poem captures the duality of AI—its potential as an ally and competitor—and reflects on its role in society. It's designed to be engaging while also subtly discussing themes related to technology and human interaction.\"}"
      ]
     },
     "execution_count": 18,
     "metadata": {},
     "output_type": "execute_result"
    }
   ],
   "source": [
    "chain = SimpleSequentialChain(chains=[chain1, chain2])\n",
    "\n",
    "response = chain.invoke('AI')\n",
    "response"
   ]
  },
  {
   "cell_type": "markdown",
   "metadata": {},
   "source": [
    "### Running Multiple Chains on Multiple Threads"
   ]
  },
  {
   "cell_type": "code",
   "execution_count": 21,
   "metadata": {},
   "outputs": [],
   "source": [
    "prompt_template1 = PromptTemplate(\n",
    "    input_variables=['word'],\n",
    "    template='Make a poem on {word}'\n",
    ")\n",
    "\n",
    "chain1 = LLMChain(llm=llm, prompt=prompt_template1)"
   ]
  },
  {
   "cell_type": "code",
   "execution_count": 22,
   "metadata": {},
   "outputs": [],
   "source": [
    "prompt_template2 = PromptTemplate(\n",
    "    input_variables=['word'],\n",
    "    template='Make a joke on {word}'\n",
    ")\n",
    "\n",
    "chain2 = LLMChain(llm=llm, prompt=prompt_template1)"
   ]
  },
  {
   "cell_type": "code",
   "execution_count": 23,
   "metadata": {},
   "outputs": [],
   "source": [
    "prompt_template3 = PromptTemplate(\n",
    "    input_variables=['word'],\n",
    "    template='What is {word}?'\n",
    ")\n",
    "\n",
    "chain3 = LLMChain(llm=llm, prompt=prompt_template1)"
   ]
  },
  {
   "cell_type": "code",
   "execution_count": null,
   "metadata": {},
   "outputs": [],
   "source": []
  }
 ],
 "metadata": {
  "kernelspec": {
   "display_name": "base",
   "language": "python",
   "name": "python3"
  },
  "language_info": {
   "codemirror_mode": {
    "name": "ipython",
    "version": 3
   },
   "file_extension": ".py",
   "mimetype": "text/x-python",
   "name": "python",
   "nbconvert_exporter": "python",
   "pygments_lexer": "ipython3",
   "version": "3.12.7"
  }
 },
 "nbformat": 4,
 "nbformat_minor": 2
}
